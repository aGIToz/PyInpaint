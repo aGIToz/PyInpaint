{
 "cells": [
  {
   "cell_type": "code",
   "execution_count": 8,
   "id": "c541dc94",
   "metadata": {},
   "outputs": [
    {
     "name": "stderr",
     "output_type": "stream",
     "text": [
      "# of pixels to be inpainted are 1915: 100%|██████████|1915/1915\n"
     ]
    }
   ],
   "source": [
    "%run ../pyinpaint/main.py --org_img \"../data/lincoln_small.png\" --mask \"../data/lincoln_small_mask.png\""
   ]
  },
  {
   "cell_type": "code",
   "execution_count": 9,
   "id": "526ec05f",
   "metadata": {},
   "outputs": [
    {
     "data": {
      "text/plain": [
       "'/home/azad/pro/github_pro/PyInpaint/notebooks'"
      ]
     },
     "execution_count": 9,
     "metadata": {},
     "output_type": "execute_result"
    }
   ],
   "source": [
    "%pwd"
   ]
  }
 ],
 "metadata": {
  "kernelspec": {
   "display_name": "Python 3",
   "language": "python",
   "name": "python3"
  },
  "language_info": {
   "codemirror_mode": {
    "name": "ipython",
    "version": 3
   },
   "file_extension": ".py",
   "mimetype": "text/x-python",
   "name": "python",
   "nbconvert_exporter": "python",
   "pygments_lexer": "ipython3",
   "version": "3.6.9"
  }
 },
 "nbformat": 4,
 "nbformat_minor": 5
}
